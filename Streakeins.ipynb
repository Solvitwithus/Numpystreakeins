{
 "cells": [
  {
   "cell_type": "code",
   "execution_count": 3466,
   "metadata": {},
   "outputs": [],
   "source": [
    "import numpy as np\n",
    "import random as random"
   ]
  },
  {
   "cell_type": "code",
   "execution_count": null,
   "metadata": {},
   "outputs": [],
   "source": []
  },
  {
   "cell_type": "code",
   "execution_count": 3467,
   "metadata": {},
   "outputs": [
    {
     "name": "stdout",
     "output_type": "stream",
     "text": [
      "NumPy version: 2.1.1\n"
     ]
    }
   ],
   "source": [
    "\n",
    "\n",
    "# Get the NumPy version\n",
    "numpy_version = np.__version__\n",
    "\n",
    "# Print the version\n",
    "print('NumPy version:', numpy_version)"
   ]
  },
  {
   "cell_type": "code",
   "execution_count": 3468,
   "metadata": {},
   "outputs": [
    {
     "data": {
      "text/plain": [
       "array([0., 0., 0., 0., 0., 0., 0., 0., 0., 0.])"
      ]
     },
     "execution_count": 3468,
     "metadata": {},
     "output_type": "execute_result"
    }
   ],
   "source": [
    "vector = np.zeros(10)\n",
    "vector"
   ]
  },
  {
   "cell_type": "code",
   "execution_count": 3469,
   "metadata": {},
   "outputs": [
    {
     "data": {
      "text/plain": [
       "80"
      ]
     },
     "execution_count": 3469,
     "metadata": {},
     "output_type": "execute_result"
    }
   ],
   "source": [
    "#Memory size for vector arrays\n",
    "\n",
    "vector_memory_size = vector.nbytes\n",
    "vector_memory_size"
   ]
  },
  {
   "cell_type": "code",
   "execution_count": 3470,
   "metadata": {},
   "outputs": [
    {
     "name": "stdout",
     "output_type": "stream",
     "text": [
      "Help on ufunc:\n",
      "\n",
      "add = <ufunc 'add'>\n",
      "    add(x1, x2, /, out=None, *, where=True, casting='same_kind', order='K', dtype=None, subok=True[, signature])\n",
      "\n",
      "    Add arguments element-wise.\n",
      "\n",
      "    Parameters\n",
      "    ----------\n",
      "    x1, x2 : array_like\n",
      "        The arrays to be added.\n",
      "        If ``x1.shape != x2.shape``, they must be broadcastable to a common\n",
      "        shape (which becomes the shape of the output).\n",
      "    out : ndarray, None, or tuple of ndarray and None, optional\n",
      "        A location into which the result is stored. If provided, it must have\n",
      "        a shape that the inputs broadcast to. If not provided or None,\n",
      "        a freshly-allocated array is returned. A tuple (possible only as a\n",
      "        keyword argument) must have length equal to the number of outputs.\n",
      "    where : array_like, optional\n",
      "        This condition is broadcast over the input. At locations where the\n",
      "        condition is True, the `out` array will be set to the ufunc result.\n",
      "        Elsewhere, the `out` array will retain its original value.\n",
      "        Note that if an uninitialized `out` array is created via the default\n",
      "        ``out=None``, locations within it where the condition is False will\n",
      "        remain uninitialized.\n",
      "    **kwargs\n",
      "        For other keyword-only arguments, see the\n",
      "        :ref:`ufunc docs <ufuncs.kwargs>`.\n",
      "\n",
      "    Returns\n",
      "    -------\n",
      "    add : ndarray or scalar\n",
      "        The sum of `x1` and `x2`, element-wise.\n",
      "        This is a scalar if both `x1` and `x2` are scalars.\n",
      "\n",
      "    Notes\n",
      "    -----\n",
      "    Equivalent to `x1` + `x2` in terms of array broadcasting.\n",
      "\n",
      "    Examples\n",
      "    --------\n",
      "    >>> import numpy as np\n",
      "    >>> np.add(1.0, 4.0)\n",
      "    5.0\n",
      "    >>> x1 = np.arange(9.0).reshape((3, 3))\n",
      "    >>> x2 = np.arange(3.0)\n",
      "    >>> np.add(x1, x2)\n",
      "    array([[  0.,   2.,   4.],\n",
      "           [  3.,   5.,   7.],\n",
      "           [  6.,   8.,  10.]])\n",
      "\n",
      "    The ``+`` operator can be used as a shorthand for ``np.add`` on ndarrays.\n",
      "\n",
      "    >>> x1 = np.arange(9.0).reshape((3, 3))\n",
      "    >>> x2 = np.arange(3.0)\n",
      "    >>> x1 + x2\n",
      "    array([[ 0.,  2.,  4.],\n",
      "           [ 3.,  5.,  7.],\n",
      "           [ 6.,  8., 10.]])\n",
      "\n"
     ]
    }
   ],
   "source": [
    "#How to get the documentation of the numpy add function from the command line\n",
    "\n",
    "help(np.add)\n"
   ]
  },
  {
   "cell_type": "code",
   "execution_count": 3471,
   "metadata": {},
   "outputs": [
    {
     "data": {
      "text/plain": [
       "array([0, 0, 0, 0, 1, 0, 0, 0, 0, 0])"
      ]
     },
     "execution_count": 3471,
     "metadata": {},
     "output_type": "execute_result"
    }
   ],
   "source": [
    "zeross = np.zeros(10, dtype=int)\n",
    "zeross[4]=1\n",
    "zeross"
   ]
  },
  {
   "cell_type": "code",
   "execution_count": 3472,
   "metadata": {},
   "outputs": [
    {
     "data": {
      "text/plain": [
       "array([10, 11, 12, 13, 14, 15, 16, 17, 18, 19, 20, 21, 22, 23, 24, 25, 26,\n",
       "       27, 28, 29, 30, 31, 32, 33, 34, 35, 36, 37, 38, 39, 40, 41, 42, 43,\n",
       "       44, 45, 46, 47, 48, 49])"
      ]
     },
     "execution_count": 3472,
     "metadata": {},
     "output_type": "execute_result"
    }
   ],
   "source": [
    "#Create a vector with values ranging from 10 to 49\n",
    "\n",
    "vector = np.arange(10, 50)\n",
    "vector"
   ]
  },
  {
   "cell_type": "code",
   "execution_count": 3473,
   "metadata": {},
   "outputs": [
    {
     "name": "stdout",
     "output_type": "stream",
     "text": [
      "[10 11 12 13 14 15 16 17 18 19 20 21 22 23 24 25 26 27 28 29 30 31 32 33\n",
      " 34 35 36 37 38 39 40 41 42 43 44 45 46 47 48 49]\n",
      "reversed:  [49 48 47 46 45 44 43 42 41 40 39 38 37 36 35 34 33 32 31 30 29 28 27 26\n",
      " 25 24 23 22 21 20 19 18 17 16 15 14 13 12 11 10]\n"
     ]
    }
   ],
   "source": [
    "\n",
    "print(vector)\n",
    "vector = vector[::-1]\n",
    "print(\"reversed: \",vector)"
   ]
  },
  {
   "cell_type": "code",
   "execution_count": 3474,
   "metadata": {},
   "outputs": [
    {
     "data": {
      "text/plain": [
       "array([[0, 1, 2],\n",
       "       [3, 4, 5],\n",
       "       [6, 7, 8]])"
      ]
     },
     "execution_count": 3474,
     "metadata": {},
     "output_type": "execute_result"
    }
   ],
   "source": [
    "hawk = np.arange(0,9)\n",
    "hawk.reshape((3,3))"
   ]
  },
  {
   "cell_type": "code",
   "execution_count": 3475,
   "metadata": {},
   "outputs": [
    {
     "data": {
      "text/plain": [
       "array([[0, 1, 2],\n",
       "       [3, 4, 5],\n",
       "       [6, 7, 8]])"
      ]
     },
     "execution_count": 3475,
     "metadata": {},
     "output_type": "execute_result"
    }
   ],
   "source": [
    "#Create a 3x3 matrix with values ranging from 0 to 8 \n",
    "\n",
    "matrix = np.arange(0, 9).reshape((3,3))\n",
    "matrix"
   ]
  },
  {
   "cell_type": "code",
   "execution_count": 3476,
   "metadata": {},
   "outputs": [
    {
     "data": {
      "text/plain": [
       "(array([0, 1, 4]),)"
      ]
     },
     "execution_count": 3476,
     "metadata": {},
     "output_type": "execute_result"
    }
   ],
   "source": [
    "#Find indices of non-zero elements\n",
    "twa =  [1,2,0,0,4,0]\n",
    "\n",
    "non_zero_indices = np.nonzero(twa)\n",
    "non_zero_indices"
   ]
  },
  {
   "cell_type": "code",
   "execution_count": 3477,
   "metadata": {},
   "outputs": [
    {
     "data": {
      "text/plain": [
       "array([[1., 0., 0.],\n",
       "       [0., 1., 0.],\n",
       "       [0., 0., 1.]])"
      ]
     },
     "execution_count": 3477,
     "metadata": {},
     "output_type": "execute_result"
    }
   ],
   "source": [
    "dentity = np.eye(3,3)\n",
    "dentity"
   ]
  },
  {
   "cell_type": "code",
   "execution_count": 3478,
   "metadata": {},
   "outputs": [
    {
     "name": "stdout",
     "output_type": "stream",
     "text": [
      "[[[0.68756401 0.32157174 0.79692355]\n",
      "  [0.99318584 0.66066285 0.7235857 ]\n",
      "  [0.90527591 0.30951731 0.30766433]]\n",
      "\n",
      " [[0.64345296 0.45581059 0.51633635]\n",
      "  [0.23141641 0.3290901  0.29520564]\n",
      "  [0.59754005 0.66121436 0.06445354]]\n",
      "\n",
      " [[0.13148974 0.38422193 0.51347238]\n",
      "  [0.50575336 0.26603335 0.988444  ]\n",
      "  [0.88062524 0.74152274 0.71222825]]]\n",
      "0.9931858431487882\n"
     ]
    }
   ],
   "source": [
    "#create a 3x3x3 array with random values \n",
    "\n",
    "array = np.random.rand(3,3,3)\n",
    "print (array)\n",
    "max = np.max(array)\n",
    "print (max)\n"
   ]
  },
  {
   "cell_type": "code",
   "execution_count": 3479,
   "metadata": {},
   "outputs": [
    {
     "data": {
      "text/plain": [
       "np.float64(0.4482334155254955)"
      ]
     },
     "execution_count": 3479,
     "metadata": {},
     "output_type": "execute_result"
    }
   ],
   "source": [
    "#Create a random vector of size 30 and find the mean value\n",
    "\n",
    "vector = np.random.rand(30)\n",
    "mean = np.mean(vector)\n",
    "mean"
   ]
  },
  {
   "cell_type": "code",
   "execution_count": 3480,
   "metadata": {},
   "outputs": [
    {
     "data": {
      "text/plain": [
       "array([[1., 1., 1., 1., 1.],\n",
       "       [1., 0., 0., 0., 1.],\n",
       "       [1., 0., 0., 0., 1.],\n",
       "       [1., 0., 0., 0., 1.],\n",
       "       [1., 1., 1., 1., 1.]])"
      ]
     },
     "execution_count": 3480,
     "metadata": {},
     "output_type": "execute_result"
    }
   ],
   "source": [
    "#Create a 2d array with 1 on the border and 0 inside\n",
    "\n",
    "array = np.ones((5,5))\n",
    "array[1:-1,1:-1] =0\n",
    "\n",
    "array"
   ]
  },
  {
   "cell_type": "code",
   "execution_count": 3481,
   "metadata": {},
   "outputs": [
    {
     "name": "stdout",
     "output_type": "stream",
     "text": [
      "Random 2D array using NumPy:\n",
      "[[0.16048994 0.03105251 0.06802264 0.88348869 0.29888418]\n",
      " [0.72002876 0.12645501 0.25707734 0.09163164 0.54908724]\n",
      " [0.95853809 0.3942867  0.14227166 0.60635011 0.80752252]\n",
      " [0.85584701 0.34275129 0.8937503  0.90479715 0.30244073]\n",
      " [0.47511305 0.03999738 0.70618989 0.62140716 0.70981237]]\n",
      "\n",
      "Array with 1 at the corners:\n",
      "[[1.         1.         1.         1.         1.        ]\n",
      " [1.         0.12645501 0.25707734 0.09163164 0.54908724]\n",
      " [0.95853809 0.3942867  0.14227166 0.60635011 0.80752252]\n",
      " [0.85584701 0.34275129 0.8937503  0.90479715 0.30244073]\n",
      " [1.         1.         1.         1.         1.        ]]\n"
     ]
    }
   ],
   "source": [
    "arr_numpy_2d = np.random.random(25).reshape((5, 5))\n",
    "print(\"Random 2D array using NumPy:\")\n",
    "print(arr_numpy_2d)\n",
    "arr_numpy_2d[0,0::] = 1.0\n",
    "arr_numpy_2d[1,0] = 1.0\n",
    "arr_numpy_2d[-1,0::] = 1.0\n",
    "print(\"\\nArray with 1 at the corners:\")\n",
    "\n",
    "print(arr_numpy_2d)"
   ]
  },
  {
   "cell_type": "code",
   "execution_count": 3482,
   "metadata": {},
   "outputs": [
    {
     "data": {
      "text/plain": [
       "array([[0, 0, 0, 0, 0],\n",
       "       [1, 0, 0, 0, 0],\n",
       "       [0, 2, 0, 0, 0],\n",
       "       [0, 0, 3, 0, 0],\n",
       "       [0, 0, 0, 4, 0]])"
      ]
     },
     "execution_count": 3482,
     "metadata": {},
     "output_type": "execute_result"
    }
   ],
   "source": [
    "#Create a 5x5 matrix with values 1,2,3,4 just below the diagonal\n",
    "\n",
    "matrix = np.diag(np.arange(1, 5), k=-1)\n",
    "matrix  "
   ]
  },
  {
   "cell_type": "code",
   "execution_count": 3483,
   "metadata": {},
   "outputs": [
    {
     "data": {
      "text/plain": [
       "array([[0, 1, 0, 1, 0, 1, 0, 1],\n",
       "       [1, 0, 1, 0, 1, 0, 1, 0],\n",
       "       [0, 1, 0, 1, 0, 1, 0, 1],\n",
       "       [1, 0, 1, 0, 1, 0, 1, 0],\n",
       "       [0, 1, 0, 1, 0, 1, 0, 1],\n",
       "       [1, 0, 1, 0, 1, 0, 1, 0],\n",
       "       [0, 1, 0, 1, 0, 1, 0, 1],\n",
       "       [1, 0, 1, 0, 1, 0, 1, 0]])"
      ]
     },
     "execution_count": 3483,
     "metadata": {},
     "output_type": "execute_result"
    }
   ],
   "source": [
    "#Create a 8x8 matrix and fill it with a checkerboard pattern\n",
    "\n",
    "matrix = np.zeros((8,8), dtype=int)\n",
    "matrix[1::2, ::2] = 1\n",
    "\n",
    "matrix[::2, 1::2] = 1\n",
    "matrix\n",
    "#Create a 5x5 matrix with random integers between 0 and 9"
   ]
  },
  {
   "cell_type": "code",
   "execution_count": 3484,
   "metadata": {},
   "outputs": [
    {
     "name": "stdout",
     "output_type": "stream",
     "text": [
      "[[[5 2 4 5 9 5 1 2]\n",
      "  [5 6 4 1 3 2 9 2]\n",
      "  [9 1 2 4 2 8 1 1]\n",
      "  [8 9 6 7 8 1 4 5]\n",
      "  [1 5 3 8 2 2 1 3]\n",
      "  [9 6 8 1 3 2 1 1]\n",
      "  [5 8 9 8 3 5 9 5]]\n",
      "\n",
      " [[6 6 8 3 5 5 3 9]\n",
      "  [7 6 7 5 7 3 2 7]\n",
      "  [8 8 5 4 6 3 2 3]\n",
      "  [4 5 6 4 9 8 7 2]\n",
      "  [1 4 6 6 6 9 5 8]\n",
      "  [1 8 4 4 5 3 9 7]\n",
      "  [2 1 3 1 9 9 2 6]]\n",
      "\n",
      " [[7 4 8 5 4 5 2 6]\n",
      "  [2 5 6 8 9 9 3 5]\n",
      "  [5 7 5 6 9 5 7 2]\n",
      "  [9 5 6 8 8 8 3 8]\n",
      "  [5 2 4 1 1 4 4 2]\n",
      "  [9 7 9 8 3 2 2 3]\n",
      "  [9 8 5 2 1 2 9 3]]\n",
      "\n",
      " [[7 4 7 5 3 4 6 2]\n",
      "  [6 5 6 8 6 5 7 9]\n",
      "  [2 6 3 4 9 2 7 7]\n",
      "  [5 9 3 7 9 1 3 3]\n",
      "  [5 9 4 8 7 8 5 5]\n",
      "  [2 2 9 1 4 7 6 1]\n",
      "  [4 9 9 6 5 4 3 6]]\n",
      "\n",
      " [[6 5 1 5 1 8 8 5]\n",
      "  [9 1 6 5 6 7 4 2]\n",
      "  [9 8 4 8 5 8 9 6]\n",
      "  [1 2 7 5 4 9 4 2]\n",
      "  [9 5 2 3 1 5 1 2]\n",
      "  [8 6 3 3 6 5 9 5]\n",
      "  [2 5 1 4 3 9 1 3]]\n",
      "\n",
      " [[3 1 5 1 3 5 3 4]\n",
      "  [2 8 1 9 8 1 7 3]\n",
      "  [4 6 7 6 5 5 7 1]\n",
      "  [9 5 8 3 4 4 8 2]\n",
      "  [8 8 4 7 9 8 6 8]\n",
      "  [2 9 6 2 6 8 1 7]\n",
      "  [8 4 2 9 1 8 7 8]]]\n"
     ]
    }
   ],
   "source": [
    "#Consider a (6,7,8) shape array, what is the index (x,y,z) of the 100th element?\n",
    "\n",
    "shape = (6,7,8)\n",
    "array = np.random.randint(1, 10, shape)\n",
    "# index = np.unravel_index(np.argwhere(array == 100)[0], shape)\n",
    "# index\n",
    "print(array)\n",
    "# print(array[100])\n"
   ]
  },
  {
   "cell_type": "code",
   "execution_count": 3485,
   "metadata": {},
   "outputs": [],
   "source": [
    "#Create a checkerboard 8x8 matrix using the tile function\n",
    "\n",
    "# checkerboard = np.tile(np.random.randint(2,67))\n",
    "# checkerboard"
   ]
  },
  {
   "cell_type": "code",
   "execution_count": 3486,
   "metadata": {},
   "outputs": [
    {
     "data": {
      "text/plain": [
       "array([[0.67044388, 0.54850902, 0.69331661, 0.70083431, 0.13805298],\n",
       "       [0.95840325, 0.85868709, 0.1337401 , 0.63058357, 0.14152226],\n",
       "       [0.7949875 , 0.81376615, 0.10138192, 0.88358928, 0.        ],\n",
       "       [0.95993081, 1.        , 0.82292355, 0.23060382, 0.9269825 ],\n",
       "       [0.40664528, 0.45640932, 0.96764084, 0.49764823, 0.62039835]])"
      ]
     },
     "execution_count": 3486,
     "metadata": {},
     "output_type": "execute_result"
    }
   ],
   "source": [
    "#Normalize a 5x5 random matrix\n",
    "\n",
    "matrix = np.random.rand(5,5)\n",
    "normalized_matrix = (matrix - matrix.min()) / (matrix.max() - matrix.min())\n",
    "normalized_matrix"
   ]
  },
  {
   "cell_type": "code",
   "execution_count": 3487,
   "metadata": {},
   "outputs": [
    {
     "data": {
      "text/plain": [
       "dtype([('r', 'u1'), ('g', 'u1'), ('b', 'u1'), ('a', 'u1')])"
      ]
     },
     "execution_count": 3487,
     "metadata": {},
     "output_type": "execute_result"
    }
   ],
   "source": [
    "#Create a custom dtype that describes a color as four unsigned bytes (RGBA)\n",
    "\n",
    "color_dtype = np.dtype([('r', np.uint8), ('g', np.uint8), ('b', np.uint8), ('a', np.uint8)])\n",
    "color_dtype"
   ]
  },
  {
   "cell_type": "code",
   "execution_count": 3488,
   "metadata": {},
   "outputs": [
    {
     "name": "stdout",
     "output_type": "stream",
     "text": [
      "[[0 1]\n",
      " [2 3]\n",
      " [4 5]]\n",
      "[[0.21480959 0.12649228 0.42599074]\n",
      " [0.27208624 0.28899988 0.085137  ]\n",
      " [0.46189469 0.0594972  0.81306772]\n",
      " [0.92758104 0.39412447 0.62259464]\n",
      " [0.04394694 0.79366105 0.76821994]]\n",
      "[[1.9569475  2.72424011]\n",
      " [0.91854775 1.56477086]\n",
      " [3.37126527 4.70572487]\n",
      " [3.2786275  5.22292764]\n",
      " [4.66020186 6.2660298 ]]\n"
     ]
    }
   ],
   "source": [
    "hawk = np.random.random(15).reshape(5,3)\n",
    "twa = np.arange(0,6).reshape(3,2)\n",
    "print(twa)      \n",
    "print(hawk)  \n",
    "\n",
    "print(np.dot(hawk,twa))"
   ]
  },
  {
   "cell_type": "code",
   "execution_count": 3489,
   "metadata": {},
   "outputs": [
    {
     "name": "stdout",
     "output_type": "stream",
     "text": [
      "[ 1  2 -3 -4 -5 -6 -7 -8  9 10]\n"
     ]
    }
   ],
   "source": [
    "#Given a 1D array, negate all elements which are between 3 and 8, in place\n",
    "\n",
    "array = np.array([1, 5, 7, 2, 9, 3, 8, 6, 4])\n",
    "arr = np.arange(1, 11)\n",
    "\n",
    "def Negate(a):\n",
    "    # Negating elements between 3 and 8, in place\n",
    "    a[(a >= 3) & (a <= 8)] *= -1\n",
    "    print(a)\n",
    "\n",
    "Negate(arr)"
   ]
  },
  {
   "cell_type": "code",
   "execution_count": 3490,
   "metadata": {},
   "outputs": [
    {
     "data": {
      "text/plain": [
       "array([-2., -2., -0.,  0.,  2.,  2.,  2.])"
      ]
     },
     "execution_count": 3490,
     "metadata": {},
     "output_type": "execute_result"
    }
   ],
   "source": [
    "#How to round away from zero a float array \n",
    "\n",
    "array = np.array([-1.7, -1.5, -0.2, 0.2, 1.5, 1.7, 2.0])\n",
    "rounded_array = np.round(array)\n",
    "rounded_array"
   ]
  },
  {
   "cell_type": "code",
   "execution_count": 3491,
   "metadata": {},
   "outputs": [
    {
     "name": "stdout",
     "output_type": "stream",
     "text": [
      "[4 5]\n",
      "[1 2 3 4 5 6]\n"
     ]
    }
   ],
   "source": [
    "#How to find common values between two arrays\n",
    "\n",
    "array1 = np.array([1, 2, 3, 4, 5])\n",
    "array2 = np.array([4, 5, 6, 7, 8])\n",
    "common_values = np.intersect1d(array1, array2)\n",
    "print(common_values)\n",
    "#How to remove duplicates from a 1D array\n",
    "\n",
    "array = np.array([1, 2, 2, 3, 4, 4, 5, 5, 6])\n",
    "unique_values = np.unique(array)\n",
    "print(unique_values)"
   ]
  },
  {
   "cell_type": "code",
   "execution_count": 3492,
   "metadata": {},
   "outputs": [],
   "source": [
    "one = np.arange(0,8)\n",
    "two =np.arange(8,17)\n",
    "\n",
    "result = np.concatenate((one, two))\n",
    "\n"
   ]
  },
  {
   "cell_type": "code",
   "execution_count": 3493,
   "metadata": {},
   "outputs": [],
   "source": [
    "#How to ignore all numpy warnings (not recommended)\n",
    "\n",
    "import warnings\n",
    "\n",
    "warnings.filterwarnings(\"ignore\")\n",
    "\n",
    "# Perform your calculations here...\n",
    "\n"
   ]
  },
  {
   "cell_type": "code",
   "execution_count": 3494,
   "metadata": {},
   "outputs": [
    {
     "data": {
      "text/plain": [
       "np.datetime64('2024-11-10')"
      ]
     },
     "execution_count": 3494,
     "metadata": {},
     "output_type": "execute_result"
    }
   ],
   "source": [
    "todaydate = np.datetime64('today', 'D')\n",
    "todaydate"
   ]
  },
  {
   "cell_type": "code",
   "execution_count": 3495,
   "metadata": {},
   "outputs": [
    {
     "data": {
      "text/plain": [
       "[datetime.date(2003, 7, 1),\n",
       " datetime.date(2003, 7, 2),\n",
       " datetime.date(2003, 7, 3),\n",
       " datetime.date(2003, 7, 4),\n",
       " datetime.date(2003, 7, 5),\n",
       " datetime.date(2003, 7, 6),\n",
       " datetime.date(2003, 7, 7),\n",
       " datetime.date(2003, 7, 8),\n",
       " datetime.date(2003, 7, 9),\n",
       " datetime.date(2003, 7, 10),\n",
       " datetime.date(2003, 7, 11),\n",
       " datetime.date(2003, 7, 12),\n",
       " datetime.date(2003, 7, 13),\n",
       " datetime.date(2003, 7, 14),\n",
       " datetime.date(2003, 7, 15),\n",
       " datetime.date(2003, 7, 16),\n",
       " datetime.date(2003, 7, 17),\n",
       " datetime.date(2003, 7, 18),\n",
       " datetime.date(2003, 7, 19),\n",
       " datetime.date(2003, 7, 20),\n",
       " datetime.date(2003, 7, 21),\n",
       " datetime.date(2003, 7, 22),\n",
       " datetime.date(2003, 7, 23),\n",
       " datetime.date(2003, 7, 24),\n",
       " datetime.date(2003, 7, 25),\n",
       " datetime.date(2003, 7, 26),\n",
       " datetime.date(2003, 7, 27),\n",
       " datetime.date(2003, 7, 28),\n",
       " datetime.date(2003, 7, 29),\n",
       " datetime.date(2003, 7, 30),\n",
       " datetime.date(2003, 7, 31)]"
      ]
     },
     "execution_count": 3495,
     "metadata": {},
     "output_type": "execute_result"
    }
   ],
   "source": [
    "entiremonth = np.arange('2003-07-01','2003-08-01',dtype='datetime64')\n",
    "entiremonth=entiremonth.tolist()\n",
    "entiremonth"
   ]
  },
  {
   "cell_type": "code",
   "execution_count": 3496,
   "metadata": {},
   "outputs": [
    {
     "name": "stdout",
     "output_type": "stream",
     "text": [
      "[[0 1 2 3 4]\n",
      " [0 1 2 3 4]\n",
      " [0 1 2 3 4]\n",
      " [0 1 2 3 4]\n",
      " [0 1 2 3 4]]\n"
     ]
    }
   ],
   "source": [
    "# Create a 5x5 matrix with row values ranging from 0 to 4\n",
    "\n",
    "matrix = np.tile(np.arange(5), (5, 1))\n",
    "print(matrix)\n"
   ]
  },
  {
   "cell_type": "code",
   "execution_count": 3497,
   "metadata": {},
   "outputs": [
    {
     "name": "stdout",
     "output_type": "stream",
     "text": [
      "[[4 1 2 2 1]\n",
      " [0 2 3 3 3]\n",
      " [2 0 2 4 3]\n",
      " [1 0 0 3 3]\n",
      " [0 3 2 1 1]]\n"
     ]
    }
   ],
   "source": [
    "matrix = np.random.randint(0, 5, (5, 5))\n",
    "print(matrix)"
   ]
  },
  {
   "cell_type": "code",
   "execution_count": 3498,
   "metadata": {},
   "outputs": [
    {
     "name": "stdout",
     "output_type": "stream",
     "text": [
      "Original array: [6 1 6 7 8 1 2 1 4 4]\n",
      "Sorted in descending order: [8 7 6 6 4 4 2 1 1 1]\n"
     ]
    }
   ],
   "source": [
    "randomvalues = np.random.randint(10, size=10)\n",
    "print(\"Original array:\", randomvalues)\n",
    "\n",
    "# Sort in descending order\n",
    "# randomvalues = np.sort(randomvalues)[::-1]\n",
    "# print(\"Sorted in descending order:\", randomvalues)\n",
    "\n",
    "\n",
    "#Descending function\n",
    "\n",
    "def descending(x):\n",
    "    # Bubble sort to sort in descending order\n",
    "    for i in range(len(x)):\n",
    "        for j in range(len(x) - 1 - i):  # Traverse the array\n",
    "            if x[j] < x[j + 1]:  # Compare adjacent elements\n",
    "                # Swap elements if they are in the wrong order\n",
    "                x[j], x[j + 1] = x[j + 1], x[j]\n",
    "    print(\"Sorted in descending order:\", x)\n",
    "\n",
    "descending(randomvalues)"
   ]
  },
  {
   "cell_type": "code",
   "execution_count": 3499,
   "metadata": {},
   "outputs": [
    {
     "name": "stdout",
     "output_type": "stream",
     "text": [
      "15\n"
     ]
    }
   ],
   "source": [
    "#How to sum a small array faster than np.sum\n",
    "\n",
    "small_array = np.array([1, 2, 3, 4, 5])\n",
    "sum_result = 0\n",
    "for num in small_array:\n",
    "    sum_result += num\n",
    "print(sum_result)"
   ]
  },
  {
   "cell_type": "code",
   "execution_count": 3500,
   "metadata": {},
   "outputs": [
    {
     "name": "stdout",
     "output_type": "stream",
     "text": [
      "False\n"
     ]
    }
   ],
   "source": [
    "#Consider two random array A and B, check if they are equa\n",
    "\n",
    "arrayA = np.random.rand(5, 5)\n",
    "arrayB = np.random.rand(5, 5)\n",
    "\n",
    "# Check if the arrays are equal\n",
    "\n",
    "is_equal = np.array_equal(arrayA, arrayB)\n",
    "print(is_equal)"
   ]
  },
  {
   "cell_type": "code",
   "execution_count": 3501,
   "metadata": {},
   "outputs": [
    {
     "name": "stdout",
     "output_type": "stream",
     "text": [
      "[[1.24354336 0.88017947]\n",
      " [1.16032716 0.6957457 ]\n",
      " [0.76186146 0.25718865]\n",
      " [0.9532979  0.10191112]\n",
      " [1.2598902  0.74788622]\n",
      " [0.89051959 0.74975641]\n",
      " [0.74596015 0.68615881]\n",
      " [1.17935432 0.68153443]\n",
      " [1.04510378 1.17468868]\n",
      " [0.94371228 1.0548732 ]]\n"
     ]
    }
   ],
   "source": [
    "#Consider a random 10x2 matrix representing cartesian coordinates, convert them to polar coordinates\n",
    "\n",
    "cartesian_coordinates = np.random.rand(10, 2)\n",
    "r = np.sqrt(cartesian_coordinates[:, 0]**2 + cartesian_coordinates[:, 1]**2)\n",
    "theta = np.arctan2(cartesian_coordinates[:, 1], cartesian_coordinates[:, 0])\n",
    "polar_coordinates = np.column_stack((r, theta))\n",
    "print(polar_coordinates)"
   ]
  },
  {
   "cell_type": "code",
   "execution_count": 3502,
   "metadata": {},
   "outputs": [
    {
     "name": "stdout",
     "output_type": "stream",
     "text": [
      "[0.01644572 0.20019778 0.31178527 0.87311615 0.19758132 0.33835784\n",
      " 0.10581898 0.         0.38328022 0.75886726]\n"
     ]
    }
   ],
   "source": [
    "# Create random vector of size 10 and replace the maximum value by 0\n",
    "\n",
    "vector = np.random.rand(10)\n",
    "max_value = np.max(vector)\n",
    "vector[vector == max_value] = 0\n",
    "print(vector)\n",
    "# Create a random 5x5 matrix and find the maximum value in each row"
   ]
  },
  {
   "cell_type": "code",
   "execution_count": 3503,
   "metadata": {},
   "outputs": [
    {
     "data": {
      "text/plain": [
       "array([(0, 0, 0), (0, 0, 0), (0, 0, 0), (0, 0, 0), (0, 0, 0)],\n",
       "      dtype=[('r', 'u1'), ('g', 'u1'), ('b', 'u1')])"
      ]
     },
     "execution_count": 3503,
     "metadata": {},
     "output_type": "execute_result"
    }
   ],
   "source": [
    "#Create a structured array representing a position (x,y) and a color (r,g,b)\n",
    "\n",
    "position_dtype = np.dtype([('x', np.int32), ('y', np.int32)])\n",
    "color_dtype = np.dtype([('r', np.uint8), ('g', np.uint8), ('b', np.uint8)])\n",
    "\n",
    "positions = np.zeros(5, dtype=position_dtype)\n",
    "colors = np.zeros(5, dtype=color_dtype)\n",
    "colors"
   ]
  },
  {
   "cell_type": "code",
   "execution_count": 3504,
   "metadata": {},
   "outputs": [
    {
     "name": "stdout",
     "output_type": "stream",
     "text": [
      "[[0.         0.63748312 0.34755524 ... 0.06530088 0.53260115 0.27283181]\n",
      " [0.63748312 0.         0.37751058 ... 0.62683838 0.24483623 0.43182372]\n",
      " [0.34755524 0.37751058 0.         ... 0.37240836 0.19425479 0.07586169]\n",
      " ...\n",
      " [0.06530088 0.62683838 0.37240836 ... 0.         0.54728794 0.30138904]\n",
      " [0.53260115 0.24483623 0.19425479 ... 0.54728794 0.         0.2686544 ]\n",
      " [0.27283181 0.43182372 0.07586169 ... 0.30138904 0.2686544  0.        ]]\n"
     ]
    }
   ],
   "source": [
    "# Consider a random vector with shape (100,2) representing coordinates, find point by point distances\n",
    "\n",
    "coordinates = np.random.rand(100, 2)\n",
    "distances = np.linalg.norm(coordinates[:, np.newaxis] - coordinates, axis=2)\n",
    "print(distances)\n"
   ]
  },
  {
   "cell_type": "code",
   "execution_count": 3505,
   "metadata": {},
   "outputs": [],
   "source": [
    "# . How to read the following file? (★★☆)\n",
    "# 1, 2, 3, 4, 5\n",
    "# 6,  ,  , 7, 8\n",
    "#  ,  , 9,10,11\n",
    "# Assuming the data is saved in a file called data.csv:\n",
    "# data = np.genfromtxt('data.csv', delimiter=\",\", dtype=float)\n",
    "\n",
    "# print(data)"
   ]
  },
  {
   "cell_type": "code",
   "execution_count": 3506,
   "metadata": {},
   "outputs": [
    {
     "name": "stdout",
     "output_type": "stream",
     "text": [
      "Index: (0, 0) Value: 1\n",
      "Index: (0, 1) Value: 2\n",
      "Index: (1, 0) Value: 3\n",
      "Index: (1, 1) Value: 4\n"
     ]
    }
   ],
   "source": [
    "arr = np.array([[1, 2], [3, 4]])\n",
    "\n",
    "# Using np.ndenumerate\n",
    "for index, value in np.ndenumerate(arr):\n",
    "    print(\"Index:\", index, \"Value:\", value)"
   ]
  },
  {
   "cell_type": "code",
   "execution_count": 3507,
   "metadata": {},
   "outputs": [
    {
     "data": {
      "image/png": "[encoded data removed]",
      "text/plain": [
       "<Figure size 640x480 with 2 Axes>"
      ]
     },
     "metadata": {},
     "output_type": "display_data"
    }
   ],
   "source": [
    "import numpy as np\n",
    "import matplotlib.pyplot as plt\n",
    "\n",
    "# Define the size of the grid\n",
    "size = 10  # 10x10 grid\n",
    "sigma = 1.0  # Standard deviation of the Gaussian\n",
    "mean = size // 2  # Center the Gaussian in the grid\n",
    "\n",
    "# Create a grid of (x, y) coordinates\n",
    "x = np.linspace(0, size - 1, size)\n",
    "y = np.linspace(0, size - 1, size)\n",
    "x, y = np.meshgrid(x, y)\n",
    "\n",
    "# Calculate the 2D Gaussian function\n",
    "gaussian_2d = np.exp(-((x - mean)**2 + (y - mean)**2) / (2 * sigma**2))\n",
    "\n",
    "# Display the result\n",
    "plt.imshow(gaussian_2d, cmap=\"viridis\")\n",
    "plt.colorbar()\n",
    "plt.title(\"2D Gaussian-like Array\")\n",
    "plt.show()\n"
   ]
  },
  {
   "cell_type": "code",
   "execution_count": 3508,
   "metadata": {},
   "outputs": [
    {
     "name": "stdout",
     "output_type": "stream",
     "text": [
      "[[0 0 1 0 0]\n",
      " [0 0 0 0 0]\n",
      " [0 0 0 0 0]\n",
      " [0 1 0 0 0]\n",
      " [0 1 0 0 0]]\n"
     ]
    }
   ],
   "source": [
    "#. How to randomly place p elements in a 2D array\n",
    "\n",
    "\n",
    "# Define the size of the array\n",
    "rows, cols = 5, 5  # Example 5x5 array\n",
    "p = 3  # Number of elements to randomly place\n",
    "\n",
    "# Initialize the array with zeros\n",
    "array = np.zeros((rows, cols), dtype=int)\n",
    "\n",
    "# Randomly choose unique positions for 'p' elements\n",
    "indices = np.random.choice(rows * cols, p, replace=False)\n",
    "array[np.unravel_index(indices, (rows, cols))] = 1  # Set chosen positions to 1\n",
    "\n",
    "print(array)"
   ]
  },
  {
   "cell_type": "code",
   "execution_count": 3509,
   "metadata": {},
   "outputs": [
    {
     "name": "stdout",
     "output_type": "stream",
     "text": [
      "Matrix:\n",
      " [[ 6  4  8  1  4]\n",
      " [10  9  1  4  1]\n",
      " [ 1  2 10  7  1]\n",
      " [ 4  1  1 10 10]\n",
      " [ 3  6 10  3  5]]\n",
      "Sum of each row: [23 25 21 26 27]\n"
     ]
    }
   ],
   "source": [
    "# Generate a 5x5 matrix with random integers from 1 to 10\n",
    "matrix = np.random.randint(1, 11, size=(5, 5))\n",
    "print(\"Matrix:\\n\", matrix)\n",
    "\n",
    "# Calculate the sum of each row\n",
    "row_sums = matrix.sum(axis=1)\n",
    "print(\"Sum of each row:\", row_sums)"
   ]
  },
  {
   "cell_type": "code",
   "execution_count": 3510,
   "metadata": {},
   "outputs": [
    {
     "name": "stdout",
     "output_type": "stream",
     "text": [
      "Array:\n",
      " [[1 0 3]\n",
      " [0 0 0]\n",
      " [4 0 6]]\n",
      "Null columns: [False  True False]\n",
      "Columns that are completely zero: [1]\n"
     ]
    }
   ],
   "source": [
    "#How to tell if a given 2D array has null columns\n",
    "array = np.array([[1, 0, 3],\n",
    "                  [0, 0, 0],\n",
    "                  [4, 0, 6]])\n",
    "\n",
    "# Check for null columns (columns where all elements are zero)\n",
    "null_columns = np.all(array == 0, axis=0)\n",
    "\n",
    "# Display result\n",
    "print(\"Array:\\n\", array)\n",
    "print(\"Null columns:\", null_columns)  # Boolean array indicating null columns\n",
    "print(\"Columns that are completely zero:\", np.where(null_columns)[0])"
   ]
  },
  {
   "cell_type": "code",
   "execution_count": 3511,
   "metadata": {},
   "outputs": [
    {
     "name": "stdout",
     "output_type": "stream",
     "text": [
      "Sum of array1 and array2 using iterator: [5. 7. 9.]\n"
     ]
    }
   ],
   "source": [
    "#Considering two arrays with shape (1,3) and (3,1), how to compute their sum using an iterator?\n",
    "\n",
    "array1 = np.array([[1, 2, 3]])\n",
    "array2 = np.array([[4],\n",
    "                  [5],\n",
    "                  [6]]) \n",
    "\n",
    "# Compute the sum using an iterator\n",
    "\n",
    "sum_array = np.zeros((array1.shape[1],))\n",
    "for i in range(array1.shape[1]):\n",
    "    sum_array[i] = array1[0, i] + array2[i, 0]\n",
    "\n",
    "print(\"Sum of array1 and array2 using iterator:\", sum_array)"
   ]
  },
  {
   "cell_type": "code",
   "execution_count": null,
   "metadata": {},
   "outputs": [
    {
     "name": "stdout",
     "output_type": "stream",
     "text": [
      "11\n",
      "7\n",
      "7\n",
      "4\n",
      "4\n",
      "5\n",
      "7\n",
      "6\n",
      "8\n",
      "9\n",
      "4\n",
      "12\n"
     ]
    }
   ],
   "source": [
    "addition = np.random.randint(1, 12, size=12)\n",
    "print(\"Original array:\", addition)\n",
    "\n",
    "# Use np.nditer to modify elements in place\n",
    "with np.nditer(addition, op_flags=['readwrite']) as it:\n",
    "    for x in it:\n",
    "        x[...] += 1  # Increment the value in place\n",
    "\n",
    "print(\"Array after incrementing:\", addition)"
   ]
  }
 ],
 "metadata": {
  "kernelspec": {
   "display_name": "Python 3",
   "language": "python",
   "name": "python3"
  },
  "language_info": {
   "codemirror_mode": {
    "name": "ipython",
    "version": 3
   },
   "file_extension": ".py",
   "mimetype": "text/x-python",
   "name": "python",
   "nbconvert_exporter": "python",
   "pygments_lexer": "ipython3",
   "version": "3.12.6"
  }
 },
 "nbformat": 4,
 "nbformat_minor": 2
}
